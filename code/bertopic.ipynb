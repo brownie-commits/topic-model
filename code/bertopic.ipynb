{
 "cells": [
  {
   "cell_type": "markdown",
   "id": "a4c76915",
   "metadata": {},
   "source": [
    "# BERTopic with Llama 3 "
   ]
  },
  {
   "cell_type": "code",
   "execution_count": null,
   "id": "aa37497f",
   "metadata": {
    "vscode": {
     "languageId": "plaintext"
    }
   },
   "outputs": [],
   "source": [
    "# Install packages\n",
    "\n",
    "%%capture\n",
    "# BERTopic + llama-cpp-python\n",
    "!CMAKE_ARGS=\"-DLLAMA_CUBLAS=on\" FORCE_CMAKE=1\n",
    "!pip install llama-cpp-python\n",
    "!pip install bertopic\n",
    "!pip install -U datasets huggingface_hub fsspec\n",
    "\n",
    "\n",
    "# DataMapPlot\n",
    "!git clone https://github.com/TutteInstitute/datamapplot.git\n",
    "!pip install datamapplot/.\n",
    "\n",
    "\n",
    "# GPU-accelerated HDBSCAN + UMAP\n",
    "!pip install cudf-cu12 dask-cudf-cu12 --extra-index-url=https://pypi.nvidia.com\n",
    "!pip install cuml-cu12 --extra-index-url=https://pypi.nvidia.com\n",
    "!pip install cugraph-cu12 --extra-index-url=https://pypi.nvidia.com\n",
    "!pip install cupy-cuda12x -f https://pip.cupy.dev/aarch64"
   ]
  },
  {
   "cell_type": "code",
   "execution_count": null,
   "id": "46f7c3ad",
   "metadata": {
    "vscode": {
     "languageId": "plaintext"
    }
   },
   "outputs": [],
   "source": [
    "from datasets import load_dataset  # For loading the dataset from Hugging Face\n",
    "from huggingface_hub import hf_hub_download  # For loading the model instance from Hugging Face\n",
    "import os  # For creating system directories\n",
    "from llama_cpp import Llama  # LLM Wrapper\n",
    "from bertopic.representation import KeyBERTInspired, LlamaCPP  # Representation Comparison\n",
    "from sentence_transformers import SentenceTransformer  # Embedding Model Wrapper\n",
    "from cuml.manifold import UMAP  # For UMAP dimensionality reduction\n",
    "from cuml.cluster import HDBSCAN  # For clustering with HDBSCAN\n",
    "from bertopic import BERTopic  # For topic modeling with BERTopic\n",
    "import PIL  # For image processing\n",
    "import numpy as np  # For numerical computations\n",
    "import requests  # For making HTTP requests\n",
    "import datamapplot  # For data visualization\n",
    "import re  # For regular expressions"
   ]
  },
  {
   "cell_type": "code",
   "execution_count": null,
   "id": "a29610c1",
   "metadata": {
    "vscode": {
     "languageId": "plaintext"
    }
   },
   "outputs": [],
   "source": [
    "model_name_or_path = \"NousResearch/Meta-Llama-3-8B-Instruct-GGUF\"\n",
    "model_basename = \"Meta-Llama-3-8B-Instruct-Q4_K_M.gguf\"\n",
    "os.makedirs('model', exist_ok=True)\n",
    "path = \"model\"\n",
    "\n",
    "\n",
    "# Downloading the model from repo\n",
    "model_path = hf_hub_download(repo_id=model_name_or_path, filename=model_basename, cache_dir=path)\n",
    "\n",
    "\n",
    "# ArXiv ML Documents\n",
    "docs = load_dataset(\"CShorten/CORD19-init-160k\")[\"train\"][\"abstract\"] # CShorten/1000-CORD19-Papers-Text\n",
    "\n",
    "\n",
    "# Use llama.cpp to load in a Quantized LLM\n",
    "llm = Llama(model_path=model_path, n_gpu_layers=-1, n_ctx=4096, stop=[\"Q:\", \"\\n\"],verbose=False)"
   ]
  },
  {
   "cell_type": "code",
   "execution_count": null,
   "id": "c73c88c3",
   "metadata": {
    "vscode": {
     "languageId": "plaintext"
    }
   },
   "outputs": [],
   "source": [
    "prompt = \"\"\" Q:\n",
    "I have a topic that contains the following documents:\n",
    "[DOCUMENTS]\n",
    "\n",
    "\n",
    "The topic is described by the following keywords: '[KEYWORDS]'.\n",
    "\n",
    "\n",
    "Based on the above information, can you give a short label of the topic of at most 5 words?\n",
    "A:\n",
    "\"\"\"\n",
    "\n",
    "\n",
    "representation_model = {\n",
    "   \"KeyBERT\": KeyBERTInspired(),\n",
    "   \"LLM\": LlamaCPP(llm, prompt=prompt),\n",
    "}\n",
    "\n",
    "\n",
    "# Pre-calculate embeddings\n",
    "embedding_model = SentenceTransformer(\"BAAI/bge-small-en-v1.5\")\n",
    "embeddings = embedding_model.encode(docs, show_progress_bar=True)\n",
    "\n",
    "\n",
    "# Pre-reduce embeddings for visualization purposes\n",
    "reduced_embeddings = UMAP(n_neighbors=15, n_components=2, min_dist=0.0, metric='cosine', random_state=42).fit_transform(embeddings)\n",
    "\n",
    "\n",
    "\n",
    "\n",
    "# Define sub-models\n",
    "umap_model = UMAP(n_neighbors=15, n_components=5, min_dist=0.0, metric='cosine', random_state=42)\n",
    "hdbscan_model = HDBSCAN(min_cluster_size=400, metric='euclidean', cluster_selection_method='eom', prediction_data=True)"
   ]
  }
 ],
 "metadata": {
  "language_info": {
   "name": "python"
  }
 },
 "nbformat": 4,
 "nbformat_minor": 5
}
